{
 "cells": [
  {
   "cell_type": "code",
   "execution_count": 1,
   "metadata": {},
   "outputs": [],
   "source": [
    "import sys\n",
    "sys.path.append('..')"
   ]
  },
  {
   "cell_type": "code",
   "execution_count": 2,
   "metadata": {},
   "outputs": [
    {
     "name": "stderr",
     "output_type": "stream",
     "text": [
      "WARNING:absl:Skipped importing the SMCalflow dataset due to ImportError. Try installing uncertainty baselines with the `datasets` extras.\n",
      "Traceback (most recent call last):\n",
      "  File \"/home/baumana1/work/data/.conda/envs/sgn_env/lib/python3.9/site-packages/uncertainty_baselines/datasets/datasets.py\", line 63, in <module>\n",
      "    from uncertainty_baselines.datasets.smcalflow import MultiWoZDataset  # pylint: disable=g-import-not-at-top\n",
      "  File \"/home/baumana1/work/data/.conda/envs/sgn_env/lib/python3.9/site-packages/uncertainty_baselines/datasets/smcalflow.py\", line 40, in <module>\n",
      "    import seqio\n",
      "ModuleNotFoundError: No module named 'seqio'\n",
      "WARNING:absl:Skipped importing the SMCalflow dataset due to ImportError. Try installing uncertainty baselines with the `datasets` extras.\n",
      "Traceback (most recent call last):\n",
      "  File \"/home/baumana1/work/data/.conda/envs/sgn_env/lib/python3.9/site-packages/uncertainty_baselines/datasets/__init__.py\", line 76, in <module>\n",
      "    from uncertainty_baselines.datasets.smcalflow import MultiWoZDataset  # pylint: disable=g-import-not-at-top\n",
      "  File \"/home/baumana1/work/data/.conda/envs/sgn_env/lib/python3.9/site-packages/uncertainty_baselines/datasets/smcalflow.py\", line 40, in <module>\n",
      "    import seqio\n",
      "ModuleNotFoundError: No module named 'seqio'\n"
     ]
    }
   ],
   "source": [
    "# Utility Functions for Inference in a Jupyter Notebook\n",
    "import matplotlib.pyplot as plt\n",
    "from typing import Literal, Tuple\n",
    "import tensorflow as tf\n",
    "import tensorflow_datasets as tfds\n",
    "import tensorflow_probability as tfp\n",
    "import robustness_metrics as rm\n",
    "import numpy as np\n",
    "import pandas as pd\n",
    "import uncertainty_baselines as ub\n",
    "from tqdm import tqdm\n",
    "from scipy.special import softmax\n",
    "from src.cifar.wide_resnet_factors import wide_resnet\n",
    "from src.cifar.label_corrupted_dataset import make_label_corrupted_dataset\n",
    "\n",
    "tfb = tfp.bijectors"
   ]
  },
  {
   "cell_type": "code",
   "execution_count": 3,
   "metadata": {},
   "outputs": [],
   "source": [
    "def load_model_checkpoint(model, checkpoint_path):\n",
    "    \"\"\"\n",
    "    Restores the model weights from the specified checkpoint directory.\n",
    "\n",
    "    Args:\n",
    "        model (tf.keras.Model): The model to restore.\n",
    "        checkpoint_dir (str): Directory containing the saved checkpoint.\n",
    "    \"\"\"\n",
    "    checkpoint = tf.train.Checkpoint(model=model)\n",
    "    checkpoint.restore(checkpoint_path).assert_existing_objects_matched()\n",
    "    print(\"Checkpoint delta successfully restored!\")\n",
    "   \n",
    "# Load and Preprocess CIFAR-10/100 Dataset\n",
    "def load_dataset(\n",
    "    dataset_name: Literal['cifar10', 'cifar100'],\n",
    "    batch_size=32, \n",
    "    data_dir=None,\n",
    "):\n",
    "    \"\"\"\n",
    "    Loads and preprocesses CIFAR-10/100 datasets.\n",
    "    \n",
    "    Args:\n",
    "        dataset_name (str): The dataset to load, e.g., 'cifar10' or 'cifar100'.\n",
    "        split (str): Dataset split to load, e.g., 'train', 'test', or 'validation'.\n",
    "        batch_size (int): Batch size for loading the data.\n",
    "        data_dir (str): Directory for dataset storage.\n",
    "        corruption_type (str): For corrupted datasets, specify the corruption type.\n",
    "        severity (int): For corrupted datasets, specify the corruption severity (1-5).\n",
    "    \n",
    "    Returns:\n",
    "        tf.data.Dataset: A preprocessed dataset.\n",
    "    \"\"\"\n",
    "    \n",
    "    clean_test_builder = ub.datasets.get(\n",
    "        dataset_name,\n",
    "        data_dir=data_dir,\n",
    "        split=tfds.Split.TEST,\n",
    "        download_data=True,\n",
    "    )\n",
    "    dataset = clean_test_builder.load(batch_size=batch_size)\n",
    "\n",
    "    return dataset\n",
    "\n",
    "# Build the Wide ResNet Model\n",
    "def build_wide_resnet(input_shape=(32, 32, 3), num_classes=10, depth=28, width_multiplier=2, l2=0.0):\n",
    "    \"\"\"\n",
    "    Builds a Wide ResNet model.\n",
    "    \n",
    "    Args:\n",
    "        input_shape (tuple): Input shape of the data.\n",
    "        num_classes (int): Number of output classes.\n",
    "        depth (int): Depth of the ResNet.\n",
    "        width_multiplier (int): Width multiplier for the ResNet.\n",
    "        l2 (float): L2 regularization parameter.\n",
    "    \n",
    "    Returns:\n",
    "        tf.keras.Model: A compiled Wide ResNet model.\n",
    "    \"\"\"\n",
    "    model = wide_resnet(\n",
    "        input_shape=input_shape,\n",
    "        depth=depth,\n",
    "        width_multiplier=width_multiplier,\n",
    "        num_classes=num_classes,\n",
    "        l2=l2,\n",
    "        version=2,\n",
    "        num_factors=1,\n",
    "        no_scale=False\n",
    "    )\n",
    "    return model\n",
    "\n",
    "def build_ub_wide_resnet(input_shape=(32, 32, 3), \n",
    "                         depth=28, \n",
    "                         width_multiplier=2, \n",
    "                         num_classes=10, \n",
    "                         l2=0.0, \n",
    "                         hps=None, \n",
    "                         seed=None):\n",
    "    \"\"\"\n",
    "    Build a Wide ResNet model using `ub.models.wide_resnet`.\n",
    "\n",
    "    Args:\n",
    "        input_shape (tuple): Shape of the input images.\n",
    "        depth (int): Depth of the Wide ResNet.\n",
    "        width_multiplier (int): Width multiplier for the ResNet.\n",
    "        num_classes (int): Number of output classes.\n",
    "        l2 (float): L2 regularization factor.\n",
    "        hps (dict): Additional hyperparameters.\n",
    "        seed (int): Random seed for model initialization.\n",
    "\n",
    "    Returns:\n",
    "        tf.keras.Model: A Wide ResNet model instance.\n",
    "    \"\"\"\n",
    "    model = ub.models.wide_resnet(\n",
    "        input_shape=input_shape,\n",
    "        depth=depth,\n",
    "        width_multiplier=width_multiplier,\n",
    "        num_classes=num_classes,\n",
    "        l2=l2,\n",
    "        hps=hps,\n",
    "        seed=seed\n",
    "    )\n",
    "    return model\n",
    "\n",
    "def perform_inference(model, dataset, deterministic=False):\n",
    "    \"\"\"\n",
    "    Performs inference on the dataset using the given model.\n",
    "    \n",
    "    Args:\n",
    "        model (tf.keras.Model): The trained model.\n",
    "        dataset (tf.data.Dataset): The dataset to perform inference on.\n",
    "    \n",
    "    Returns:\n",
    "        List[Dict]: A list of predictions and true labels.\n",
    "    \"\"\"\n",
    "\n",
    "    if not deterministic:\n",
    "        locs, scales, all_labels = [], [], []\n",
    "        for batch in tqdm(dataset):\n",
    "            images = batch['features']\n",
    "            labels = batch['labels']\n",
    "            # Perform a forward pass\n",
    "            loc, scale = model(images, training=False)  # Adjust based on your model's output\n",
    "            locs.append(loc.numpy())\n",
    "            scales.append(scale.numpy())\n",
    "            all_labels.append(labels.numpy())\n",
    "\n",
    "        # Combine all batches into single arrays\n",
    "        locs = tf.concat(locs, axis=0).numpy()\n",
    "        scales = tf.concat(scales, axis=0).numpy()\n",
    "        all_labels = tf.concat(all_labels, axis=0).numpy()\n",
    "\n",
    "        return locs, scales, all_labels\n",
    "\n",
    "    locs, all_labels = [], []\n",
    "    for batch in tqdm(dataset):\n",
    "        images = batch['features']\n",
    "        labels = batch['labels']\n",
    "        # Perform a forward pass\n",
    "        loc = model(images, training=False)  # Adjust based on your model's output\n",
    "        locs.append(loc.numpy())\n",
    "        all_labels.append(labels.numpy())\n",
    "\n",
    "    # Combine all batches into single arrays\n",
    "    locs = tf.concat(locs, axis=0).numpy()\n",
    "    all_labels = tf.concat(all_labels, axis=0).numpy()\n",
    "\n",
    "    return locs, all_labels\n",
    "\n",
    "\n",
    "# Utility to Display Results\n",
    "def display_results(predictions, class_names=None):\n",
    "    \"\"\"\n",
    "    Displays predictions and their true labels.\n",
    "\n",
    "    Args:\n",
    "        predictions (List[Dict]): A list of predictions and true labels.\n",
    "        class_names (List[str]): Optional list of class names for better readability.\n",
    "    \"\"\"\n",
    "    for i, result in enumerate(predictions[:5]):  # Display first 5 examples\n",
    "        pred = result['predicted']\n",
    "        true = result['true']\n",
    "        if class_names:\n",
    "            print(f\"Example {i+1}: Predicted={class_names[pred]}, True={class_names[true]}\")\n",
    "        else:\n",
    "            print(f\"Example {i+1}: Predicted={pred}, True={true}\")"
   ]
  },
  {
   "cell_type": "code",
   "execution_count": 4,
   "metadata": {},
   "outputs": [],
   "source": [
    "def clr_inv(p):\n",
    "    z = tf.math.log(p)\n",
    "    return z - tf.reduce_mean(z, axis=1)[:, tf.newaxis]\n",
    "\n",
    "\n",
    "def clr_forward(z, axis=1):\n",
    "    return tf.nn.softmax(z, axis=axis)\n",
    "\n",
    "\n",
    "def helmert_tf(n):\n",
    "  tensor = tf.ones((n, n))\n",
    "  H = tf.linalg.set_diag(tf.linalg.band_part(tensor, -1, 0), 1-tf.range(1, n+1, dtype=tf.float32))\n",
    "  d = tf.range(0, n, dtype=tf.float32) * tf.range(1, n+1, dtype=tf.float32)\n",
    "  H_full = H / tf.math.sqrt(d)[:, tf.newaxis]\n",
    "  return H_full[1:]\n",
    "\n",
    "\n",
    "def ilr_forward(z, axis=-1):\n",
    "    H = helmert_tf(tf.shape(z)[-1] + 1)\n",
    "    return clr_forward(z @ H, axis=axis)\n",
    "\n",
    "\n",
    "def ilr_inv(p):\n",
    "    z = clr_inv(p)\n",
    "    H = helmert_tf(tf.shape(p)[-1])\n",
    "    return z @ tf.linalg.matrix_transpose(H)"
   ]
  },
  {
   "cell_type": "code",
   "execution_count": 5,
   "metadata": {},
   "outputs": [],
   "source": [
    "def evaluate_sgn(\n",
    "    dataset_name: str,\n",
    "    checkpoint_dir: str,\n",
    "    num_classes: int,\n",
    ") -> Tuple[np.ndarray, np.ndarray, np.ndarray]:\n",
    "    batch_size = 32\n",
    "\n",
    "    dataset = load_dataset(dataset_name=dataset_name, batch_size=batch_size)\n",
    "\n",
    "    model = build_wide_resnet(num_classes=num_classes-1)\n",
    "    load_model_checkpoint(model, checkpoint_dir)\n",
    "\n",
    "    locs, scales, labels = perform_inference(model, dataset, deterministic=False)\n",
    "    return locs, scales, labels\n",
    "\n",
    "def evaluate_ls(\n",
    "    dataset_name: str,\n",
    "    checkpoint_dir: str,\n",
    "    num_classes: int,\n",
    ") -> Tuple[np.ndarray, np.ndarray]:\n",
    "    # Main Execution\n",
    "    batch_size = 32\n",
    "\n",
    "    dataset = load_dataset(dataset_name=dataset_name, batch_size=batch_size)\n",
    "\n",
    "    model = build_ub_wide_resnet(num_classes=num_classes, seed=42)\n",
    "    load_model_checkpoint(model, checkpoint_dir)\n",
    "\n",
    "    locs, labels = perform_inference(model, dataset, deterministic=True)\n",
    "    return locs, labels\n"
   ]
  },
  {
   "cell_type": "code",
   "execution_count": 6,
   "metadata": {},
   "outputs": [],
   "source": [
    "def _create_normal(mu, r, num_classes):\n",
    "    \"\"\"\n",
    "    Utility function for creating a shifted Gaussian distribution in logit space.\n",
    "\n",
    "    Arguments:\n",
    "      mu: The unshifted mean predicted by the main network.\n",
    "      r: The rank-1 factor of the scale matrix.\n",
    "      mu_ema: The predicted mean of the EMA network used to calculate the shift: delta = t - mu_ema.\n",
    "      num_classes: The number of classes for the dataset, i.e. 10 or 100.\n",
    "    \n",
    "    Returns:\n",
    "      tfp.distributions.MultivariateNormalDiagPlusLowRank.\n",
    "    \"\"\"\n",
    "    num_classes_logits = num_classes-1\n",
    "\n",
    "    mean = mu\n",
    "    diag = tf.ones([tf.shape(mu)[0], num_classes_logits])\n",
    "    r = tf.reshape(r, [-1, num_classes_logits, 1])\n",
    "\n",
    "    return tfp.distributions.MultivariateNormalDiagPlusLowRank(\n",
    "        loc=mean,\n",
    "        scale_diag=diag,\n",
    "        scale_perturb_factor=r,\n",
    "        validate_args=False,\n",
    "        allow_nan_stats=False,\n",
    "    )"
   ]
  },
  {
   "cell_type": "code",
   "execution_count": 7,
   "metadata": {},
   "outputs": [],
   "source": [
    "def sample_probas_chunked(\n",
    "    locs: np.ndarray, \n",
    "    scales: np.ndarray, \n",
    "    num_classes: int, \n",
    "    num_samples=10, \n",
    "    chunk_size=128\n",
    "):\n",
    "    \"\"\"\n",
    "    Samples probabilities from a shifted Gaussian distribution and computes the mean probabilities,\n",
    "    processing in chunks to handle large datasets with a progress bar.\n",
    "\n",
    "    Arguments:\n",
    "      locs: Mean logits predicted by the network (shape: [batch_size, num_classes - 1]).\n",
    "      scales: Rank-1 factors for the covariance matrix (shape: [batch_size, num_classes - 1]).\n",
    "      num_classes: The number of classes for the dataset.\n",
    "      num_samples: The number of samples to draw from the distribution.\n",
    "      chunk_size: The number of examples to process in each chunk.\n",
    "\n",
    "    Returns:\n",
    "      mean_probas: The average probabilities over all samples (shape: [batch_size, num_classes]).\n",
    "    \"\"\"\n",
    "    batch_size = locs.shape[0]\n",
    "    mean_probas_list = []\n",
    "\n",
    "    # Use tqdm for progress bar\n",
    "    for start_idx in tqdm(range(0, batch_size, chunk_size), desc=\"Processing chunks\"):\n",
    "        end_idx = min(start_idx + chunk_size, batch_size)\n",
    "\n",
    "        # Slice the current chunk\n",
    "        locs_chunk = locs[start_idx:end_idx]\n",
    "        scales_chunk = scales[start_idx:end_idx]\n",
    "\n",
    "        # Create the Gaussian distribution for the chunk\n",
    "        normal = _create_normal(mu=locs_chunk, r=scales_chunk, num_classes=num_classes)\n",
    "\n",
    "        # Sample probabilities\n",
    "        samples = normal.sample(num_samples)\n",
    "        probas_samples = ilr_forward(samples, axis=-1)\n",
    "        mean_probas_chunk = tf.reduce_mean(probas_samples, axis=0)\n",
    "\n",
    "        # Collect results for this chunk\n",
    "        mean_probas_list.append(mean_probas_chunk.numpy())\n",
    "\n",
    "    # Concatenate results from all chunks\n",
    "    mean_probas = np.concatenate(mean_probas_list, axis=0)\n",
    "\n",
    "    return mean_probas"
   ]
  },
  {
   "cell_type": "code",
   "execution_count": 8,
   "metadata": {},
   "outputs": [],
   "source": [
    "def compute_metrics(probs, labels):\n",
    "    \"\"\"\n",
    "    Compute ECE (Expected Calibration Error), NLPD (Negative Log Predictive Density),\n",
    "    and accuracy for given probabilities and true labels.\n",
    "\n",
    "    Args:\n",
    "        probs (tf.Tensor): Predicted probabilities, shape (batch_size, num_classes).\n",
    "        labels (tf.Tensor): True labels, shape (batch_size,).\n",
    "\n",
    "    Returns:\n",
    "        dict: A dictionary with computed metrics.\n",
    "    \"\"\"\n",
    "    # ECE Metric\n",
    "    ece_fn = rm.metrics.ExpectedCalibrationError(num_bins=15)\n",
    "    ece_fn.add_batch(probs, label=labels)\n",
    "    ece = ece_fn.result()['ece']\n",
    "\n",
    "    # NLPD Metric (Negative Log Predictive Density)\n",
    "    nlpd = tf.reduce_mean(\n",
    "        tf.keras.losses.sparse_categorical_crossentropy(labels, probs)\n",
    "    ).numpy()\n",
    "\n",
    "    # Accuracy\n",
    "    predicted_classes = tf.argmax(probs, axis=1)  # Get class predictions\n",
    "    accuracy = tf.reduce_mean(tf.cast(predicted_classes == labels, tf.float32)).numpy()\n",
    "\n",
    "    return {\n",
    "        \"ece\": ece,\n",
    "        \"nlpd\": nlpd,\n",
    "        \"acc\": accuracy\n",
    "    }"
   ]
  },
  {
   "cell_type": "code",
   "execution_count": 9,
   "metadata": {},
   "outputs": [],
   "source": [
    "def make_calibration_df(probs, labels, n_bins=15):\n",
    "    \"\"\"\n",
    "    Create a calibration DataFrame for multiclass probabilities, comparing confidence to accuracy.\n",
    "    \n",
    "    Args:\n",
    "        probs (np.ndarray): 2D array of predicted probabilities (shape: [n_samples, n_classes]).\n",
    "        labels (np.ndarray): Array of true class labels (shape: [n_samples]).\n",
    "        n_bins (int): Number of bins to divide the confidence scores into.\n",
    "    \n",
    "    Returns:\n",
    "        pd.DataFrame: A DataFrame with `bin_start`, `bin_end`, `average_confidence`, and `accuracy`.\n",
    "    \"\"\"\n",
    "    # Flatten probabilities and labels for confidence-based binning\n",
    "    max_probs = np.max(probs, axis=1)  # Max confidence for each sample\n",
    "    predictions = np.argmax(probs, axis=1)  # Predicted class for each sample\n",
    "    correct_predictions = (predictions == labels).astype(int)  # 1 if correct, 0 otherwise\n",
    "\n",
    "    # Define bin edges and assign bins\n",
    "    bin_edges = np.linspace(0.0, 1.0, n_bins + 1)\n",
    "    bin_indices = np.digitize(max_probs, bins=bin_edges, right=True) - 1\n",
    "\n",
    "    # Initialize lists to store bin data\n",
    "    bin_start, bin_end, average_confidence, accuracy = [], [], [], []\n",
    "\n",
    "    # Calculate statistics for each bin\n",
    "    for i in range(n_bins):\n",
    "        bin_mask = bin_indices == i\n",
    "        bin_max_probs = max_probs[bin_mask]\n",
    "        bin_correct_preds = correct_predictions[bin_mask]\n",
    "\n",
    "        # Skip empty bins\n",
    "        if len(bin_max_probs) == 0:\n",
    "            continue\n",
    "\n",
    "        # Bin boundaries\n",
    "        bin_start.append(bin_edges[i])\n",
    "        bin_end.append(bin_edges[i + 1])\n",
    "\n",
    "        # Average confidence and accuracy\n",
    "        average_confidence.append(bin_max_probs.mean())\n",
    "        accuracy.append(bin_correct_preds.mean())\n",
    "\n",
    "    # Create DataFrame\n",
    "    calibration_df = pd.DataFrame({\n",
    "        'bin_start': bin_start,\n",
    "        'bin_end': bin_end,\n",
    "        'average_confidence': average_confidence,\n",
    "        'accuracy': accuracy\n",
    "    })\n",
    "    \n",
    "    return calibration_df"
   ]
  },
  {
   "cell_type": "code",
   "execution_count": 10,
   "metadata": {},
   "outputs": [],
   "source": [
    "def plot_calibration(calibration_df: pd.DataFrame, error: float):\n",
    "    \"\"\"\n",
    "    Plot a calibration bar plot with gaps between accuracy and confidence, and display error.\n",
    "    \n",
    "    Args:\n",
    "        calibration_df (pd.DataFrame): DataFrame containing calibration data with \n",
    "                                       `bin_start`, `bin_end`, `average_confidence`, \n",
    "                                       and `accuracy`.\n",
    "        error (float): The calibration error to display on the plot.\n",
    "    \"\"\"\n",
    "    # Calculate bin centers for the x-axis\n",
    "    bin_centers = (calibration_df['bin_start'] + calibration_df['bin_end']) / 2\n",
    "    bar_width = (calibration_df['bin_end'] - calibration_df['bin_start']).iloc[0]\n",
    "\n",
    "    # Create figure and axis\n",
    "    plt.figure(figsize=(6, 6))\n",
    "    ax = plt.gca()\n",
    "\n",
    "    # Plot gaps between confidence and accuracy\n",
    "    plt.bar(bin_centers, calibration_df['accuracy'], width=bar_width, \n",
    "            color='blue', edgecolor='black', label='Accuracy', alpha=0.5)\n",
    "\n",
    "    # Add labels and grid\n",
    "    plt.xlabel('Confidence')\n",
    "    plt.ylabel('Accuracy')\n",
    "    plt.title('Calibration Plot')\n",
    "    plt.ylim(0, 1)\n",
    "    plt.xticks(bin_centers, labels=[f'{start:.1f}' for start in calibration_df['bin_start']], rotation=45)\n",
    "    plt.grid(visible=True, which='both', linestyle='--', linewidth=0.5, alpha=0.7)\n",
    "\n",
    "    # Add legend\n",
    "    plt.legend(loc='upper left', frameon=True, fancybox=True, shadow=True)\n",
    "\n",
    "    # Add error text\n",
    "    plt.text(0.5, 0.1, f'Error={error:.4f}', fontsize=16, color='purple', \n",
    "             weight='bold', ha='center', transform=ax.transAxes,\n",
    "             bbox=dict(facecolor='lavender', alpha=0.5, edgecolor='none'))\n",
    "\n",
    "    # Display the plot\n",
    "    plt.tight_layout()\n",
    "    plt.show()"
   ]
  },
  {
   "cell_type": "code",
   "execution_count": 21,
   "metadata": {},
   "outputs": [
    {
     "name": "stderr",
     "output_type": "stream",
     "text": [
      "WARNING:absl:options.experimental_threading is deprecated. Use options.threading instead.\n",
      "WARNING:absl:options.experimental_threading is deprecated. Use options.threading instead.\n"
     ]
    },
    {
     "name": "stdout",
     "output_type": "stream",
     "text": [
      "Checkpoint delta successfully restored!\n",
      "WARNING:tensorflow:Detecting that an object or model or tf.train.Checkpoint is being deleted with unrestored values. See the following logs for the specific values in question. To silence these warnings, use `status.expect_partial()`. See https://www.tensorflow.org/api_docs/python/tf/train/Checkpoint#restorefor details about the status object returned by the restore function.\n"
     ]
    },
    {
     "name": "stderr",
     "output_type": "stream",
     "text": [
      "WARNING:tensorflow:Detecting that an object or model or tf.train.Checkpoint is being deleted with unrestored values. See the following logs for the specific values in question. To silence these warnings, use `status.expect_partial()`. See https://www.tensorflow.org/api_docs/python/tf/train/Checkpoint#restorefor details about the status object returned by the restore function.\n"
     ]
    },
    {
     "name": "stdout",
     "output_type": "stream",
     "text": [
      "WARNING:tensorflow:Value in checkpoint could not be found in the restored object: (root).optimizer.iter\n"
     ]
    },
    {
     "name": "stderr",
     "output_type": "stream",
     "text": [
      "WARNING:tensorflow:Value in checkpoint could not be found in the restored object: (root).optimizer.iter\n"
     ]
    },
    {
     "name": "stdout",
     "output_type": "stream",
     "text": [
      "WARNING:tensorflow:Value in checkpoint could not be found in the restored object: (root).optimizer.decay\n"
     ]
    },
    {
     "name": "stderr",
     "output_type": "stream",
     "text": [
      "WARNING:tensorflow:Value in checkpoint could not be found in the restored object: (root).optimizer.decay\n"
     ]
    },
    {
     "name": "stdout",
     "output_type": "stream",
     "text": [
      "WARNING:tensorflow:Value in checkpoint could not be found in the restored object: (root).optimizer.learning_rate\n"
     ]
    },
    {
     "name": "stderr",
     "output_type": "stream",
     "text": [
      "WARNING:tensorflow:Value in checkpoint could not be found in the restored object: (root).optimizer.learning_rate\n"
     ]
    },
    {
     "name": "stdout",
     "output_type": "stream",
     "text": [
      "WARNING:tensorflow:Value in checkpoint could not be found in the restored object: (root).optimizer.momentum\n"
     ]
    },
    {
     "name": "stderr",
     "output_type": "stream",
     "text": [
      "WARNING:tensorflow:Value in checkpoint could not be found in the restored object: (root).optimizer.momentum\n",
      "100%|██████████| 313/313 [01:40<00:00,  3.70it/s]\n"
     ]
    }
   ],
   "source": [
    "locs_sgn, scales_sgn, labels_sgn = evaluate_sgn(\n",
    "    dataset_name='cifar100',\n",
    "    checkpoint_dir='/home/baumana1/work/data/sgn_results/out/cifar100sgn/no_noise/checkpoint_delta-7',\n",
    "    num_classes=100,\n",
    ")"
   ]
  },
  {
   "cell_type": "code",
   "execution_count": 22,
   "metadata": {},
   "outputs": [
    {
     "name": "stderr",
     "output_type": "stream",
     "text": [
      "WARNING:absl:options.experimental_threading is deprecated. Use options.threading instead.\n",
      "WARNING:absl:options.experimental_threading is deprecated. Use options.threading instead.\n"
     ]
    },
    {
     "name": "stdout",
     "output_type": "stream",
     "text": [
      "Checkpoint delta successfully restored!\n",
      "WARNING:tensorflow:Detecting that an object or model or tf.train.Checkpoint is being deleted with unrestored values. See the following logs for the specific values in question. To silence these warnings, use `status.expect_partial()`. See https://www.tensorflow.org/api_docs/python/tf/train/Checkpoint#restorefor details about the status object returned by the restore function.\n"
     ]
    },
    {
     "name": "stderr",
     "output_type": "stream",
     "text": [
      "WARNING:tensorflow:Detecting that an object or model or tf.train.Checkpoint is being deleted with unrestored values. See the following logs for the specific values in question. To silence these warnings, use `status.expect_partial()`. See https://www.tensorflow.org/api_docs/python/tf/train/Checkpoint#restorefor details about the status object returned by the restore function.\n"
     ]
    },
    {
     "name": "stdout",
     "output_type": "stream",
     "text": [
      "WARNING:tensorflow:Value in checkpoint could not be found in the restored object: (root).optimizer.iter\n"
     ]
    },
    {
     "name": "stderr",
     "output_type": "stream",
     "text": [
      "WARNING:tensorflow:Value in checkpoint could not be found in the restored object: (root).optimizer.iter\n"
     ]
    },
    {
     "name": "stdout",
     "output_type": "stream",
     "text": [
      "WARNING:tensorflow:Value in checkpoint could not be found in the restored object: (root).optimizer.decay\n"
     ]
    },
    {
     "name": "stderr",
     "output_type": "stream",
     "text": [
      "WARNING:tensorflow:Value in checkpoint could not be found in the restored object: (root).optimizer.decay\n"
     ]
    },
    {
     "name": "stdout",
     "output_type": "stream",
     "text": [
      "WARNING:tensorflow:Value in checkpoint could not be found in the restored object: (root).optimizer.learning_rate\n"
     ]
    },
    {
     "name": "stderr",
     "output_type": "stream",
     "text": [
      "WARNING:tensorflow:Value in checkpoint could not be found in the restored object: (root).optimizer.learning_rate\n"
     ]
    },
    {
     "name": "stdout",
     "output_type": "stream",
     "text": [
      "WARNING:tensorflow:Value in checkpoint could not be found in the restored object: (root).optimizer.momentum\n"
     ]
    },
    {
     "name": "stderr",
     "output_type": "stream",
     "text": [
      "WARNING:tensorflow:Value in checkpoint could not be found in the restored object: (root).optimizer.momentum\n"
     ]
    },
    {
     "name": "stdout",
     "output_type": "stream",
     "text": [
      "WARNING:tensorflow:Value in checkpoint could not be found in the restored object: (root).optimizer's state 'momentum' for (root).model.layer_with_weights-0.kernel\n"
     ]
    },
    {
     "name": "stderr",
     "output_type": "stream",
     "text": [
      "WARNING:tensorflow:Value in checkpoint could not be found in the restored object: (root).optimizer's state 'momentum' for (root).model.layer_with_weights-0.kernel\n"
     ]
    },
    {
     "name": "stdout",
     "output_type": "stream",
     "text": [
      "WARNING:tensorflow:Value in checkpoint could not be found in the restored object: (root).optimizer's state 'momentum' for (root).model.layer_with_weights-1.gamma\n"
     ]
    },
    {
     "name": "stderr",
     "output_type": "stream",
     "text": [
      "WARNING:tensorflow:Value in checkpoint could not be found in the restored object: (root).optimizer's state 'momentum' for (root).model.layer_with_weights-1.gamma\n"
     ]
    },
    {
     "name": "stdout",
     "output_type": "stream",
     "text": [
      "WARNING:tensorflow:Value in checkpoint could not be found in the restored object: (root).optimizer's state 'momentum' for (root).model.layer_with_weights-1.beta\n"
     ]
    },
    {
     "name": "stderr",
     "output_type": "stream",
     "text": [
      "WARNING:tensorflow:Value in checkpoint could not be found in the restored object: (root).optimizer's state 'momentum' for (root).model.layer_with_weights-1.beta\n"
     ]
    },
    {
     "name": "stdout",
     "output_type": "stream",
     "text": [
      "WARNING:tensorflow:Value in checkpoint could not be found in the restored object: (root).optimizer's state 'momentum' for (root).model.layer_with_weights-2.kernel\n"
     ]
    },
    {
     "name": "stderr",
     "output_type": "stream",
     "text": [
      "WARNING:tensorflow:Value in checkpoint could not be found in the restored object: (root).optimizer's state 'momentum' for (root).model.layer_with_weights-2.kernel\n"
     ]
    },
    {
     "name": "stdout",
     "output_type": "stream",
     "text": [
      "WARNING:tensorflow:Value in checkpoint could not be found in the restored object: (root).optimizer's state 'momentum' for (root).model.layer_with_weights-3.gamma\n"
     ]
    },
    {
     "name": "stderr",
     "output_type": "stream",
     "text": [
      "WARNING:tensorflow:Value in checkpoint could not be found in the restored object: (root).optimizer's state 'momentum' for (root).model.layer_with_weights-3.gamma\n"
     ]
    },
    {
     "name": "stdout",
     "output_type": "stream",
     "text": [
      "WARNING:tensorflow:Value in checkpoint could not be found in the restored object: (root).optimizer's state 'momentum' for (root).model.layer_with_weights-3.beta\n"
     ]
    },
    {
     "name": "stderr",
     "output_type": "stream",
     "text": [
      "WARNING:tensorflow:Value in checkpoint could not be found in the restored object: (root).optimizer's state 'momentum' for (root).model.layer_with_weights-3.beta\n"
     ]
    },
    {
     "name": "stdout",
     "output_type": "stream",
     "text": [
      "WARNING:tensorflow:Value in checkpoint could not be found in the restored object: (root).optimizer's state 'momentum' for (root).model.layer_with_weights-4.kernel\n"
     ]
    },
    {
     "name": "stderr",
     "output_type": "stream",
     "text": [
      "WARNING:tensorflow:Value in checkpoint could not be found in the restored object: (root).optimizer's state 'momentum' for (root).model.layer_with_weights-4.kernel\n"
     ]
    },
    {
     "name": "stdout",
     "output_type": "stream",
     "text": [
      "WARNING:tensorflow:Value in checkpoint could not be found in the restored object: (root).optimizer's state 'momentum' for (root).model.layer_with_weights-5.kernel\n"
     ]
    },
    {
     "name": "stderr",
     "output_type": "stream",
     "text": [
      "WARNING:tensorflow:Value in checkpoint could not be found in the restored object: (root).optimizer's state 'momentum' for (root).model.layer_with_weights-5.kernel\n"
     ]
    },
    {
     "name": "stdout",
     "output_type": "stream",
     "text": [
      "WARNING:tensorflow:Value in checkpoint could not be found in the restored object: (root).optimizer's state 'momentum' for (root).model.layer_with_weights-6.gamma\n"
     ]
    },
    {
     "name": "stderr",
     "output_type": "stream",
     "text": [
      "WARNING:tensorflow:Value in checkpoint could not be found in the restored object: (root).optimizer's state 'momentum' for (root).model.layer_with_weights-6.gamma\n"
     ]
    },
    {
     "name": "stdout",
     "output_type": "stream",
     "text": [
      "WARNING:tensorflow:Value in checkpoint could not be found in the restored object: (root).optimizer's state 'momentum' for (root).model.layer_with_weights-6.beta\n"
     ]
    },
    {
     "name": "stderr",
     "output_type": "stream",
     "text": [
      "WARNING:tensorflow:Value in checkpoint could not be found in the restored object: (root).optimizer's state 'momentum' for (root).model.layer_with_weights-6.beta\n"
     ]
    },
    {
     "name": "stdout",
     "output_type": "stream",
     "text": [
      "WARNING:tensorflow:Value in checkpoint could not be found in the restored object: (root).optimizer's state 'momentum' for (root).model.layer_with_weights-7.kernel\n"
     ]
    },
    {
     "name": "stderr",
     "output_type": "stream",
     "text": [
      "WARNING:tensorflow:Value in checkpoint could not be found in the restored object: (root).optimizer's state 'momentum' for (root).model.layer_with_weights-7.kernel\n"
     ]
    },
    {
     "name": "stdout",
     "output_type": "stream",
     "text": [
      "WARNING:tensorflow:Value in checkpoint could not be found in the restored object: (root).optimizer's state 'momentum' for (root).model.layer_with_weights-8.gamma\n"
     ]
    },
    {
     "name": "stderr",
     "output_type": "stream",
     "text": [
      "WARNING:tensorflow:Value in checkpoint could not be found in the restored object: (root).optimizer's state 'momentum' for (root).model.layer_with_weights-8.gamma\n"
     ]
    },
    {
     "name": "stdout",
     "output_type": "stream",
     "text": [
      "WARNING:tensorflow:Value in checkpoint could not be found in the restored object: (root).optimizer's state 'momentum' for (root).model.layer_with_weights-8.beta\n"
     ]
    },
    {
     "name": "stderr",
     "output_type": "stream",
     "text": [
      "WARNING:tensorflow:Value in checkpoint could not be found in the restored object: (root).optimizer's state 'momentum' for (root).model.layer_with_weights-8.beta\n"
     ]
    },
    {
     "name": "stdout",
     "output_type": "stream",
     "text": [
      "WARNING:tensorflow:Value in checkpoint could not be found in the restored object: (root).optimizer's state 'momentum' for (root).model.layer_with_weights-9.kernel\n"
     ]
    },
    {
     "name": "stderr",
     "output_type": "stream",
     "text": [
      "WARNING:tensorflow:Value in checkpoint could not be found in the restored object: (root).optimizer's state 'momentum' for (root).model.layer_with_weights-9.kernel\n"
     ]
    },
    {
     "name": "stdout",
     "output_type": "stream",
     "text": [
      "WARNING:tensorflow:Value in checkpoint could not be found in the restored object: (root).optimizer's state 'momentum' for (root).model.layer_with_weights-10.gamma\n"
     ]
    },
    {
     "name": "stderr",
     "output_type": "stream",
     "text": [
      "WARNING:tensorflow:Value in checkpoint could not be found in the restored object: (root).optimizer's state 'momentum' for (root).model.layer_with_weights-10.gamma\n"
     ]
    },
    {
     "name": "stdout",
     "output_type": "stream",
     "text": [
      "WARNING:tensorflow:Value in checkpoint could not be found in the restored object: (root).optimizer's state 'momentum' for (root).model.layer_with_weights-10.beta\n"
     ]
    },
    {
     "name": "stderr",
     "output_type": "stream",
     "text": [
      "WARNING:tensorflow:Value in checkpoint could not be found in the restored object: (root).optimizer's state 'momentum' for (root).model.layer_with_weights-10.beta\n"
     ]
    },
    {
     "name": "stdout",
     "output_type": "stream",
     "text": [
      "WARNING:tensorflow:Value in checkpoint could not be found in the restored object: (root).optimizer's state 'momentum' for (root).model.layer_with_weights-11.kernel\n"
     ]
    },
    {
     "name": "stderr",
     "output_type": "stream",
     "text": [
      "WARNING:tensorflow:Value in checkpoint could not be found in the restored object: (root).optimizer's state 'momentum' for (root).model.layer_with_weights-11.kernel\n"
     ]
    },
    {
     "name": "stdout",
     "output_type": "stream",
     "text": [
      "WARNING:tensorflow:Value in checkpoint could not be found in the restored object: (root).optimizer's state 'momentum' for (root).model.layer_with_weights-12.gamma\n"
     ]
    },
    {
     "name": "stderr",
     "output_type": "stream",
     "text": [
      "WARNING:tensorflow:Value in checkpoint could not be found in the restored object: (root).optimizer's state 'momentum' for (root).model.layer_with_weights-12.gamma\n"
     ]
    },
    {
     "name": "stdout",
     "output_type": "stream",
     "text": [
      "WARNING:tensorflow:Value in checkpoint could not be found in the restored object: (root).optimizer's state 'momentum' for (root).model.layer_with_weights-12.beta\n"
     ]
    },
    {
     "name": "stderr",
     "output_type": "stream",
     "text": [
      "WARNING:tensorflow:Value in checkpoint could not be found in the restored object: (root).optimizer's state 'momentum' for (root).model.layer_with_weights-12.beta\n"
     ]
    },
    {
     "name": "stdout",
     "output_type": "stream",
     "text": [
      "WARNING:tensorflow:Value in checkpoint could not be found in the restored object: (root).optimizer's state 'momentum' for (root).model.layer_with_weights-13.kernel\n"
     ]
    },
    {
     "name": "stderr",
     "output_type": "stream",
     "text": [
      "WARNING:tensorflow:Value in checkpoint could not be found in the restored object: (root).optimizer's state 'momentum' for (root).model.layer_with_weights-13.kernel\n"
     ]
    },
    {
     "name": "stdout",
     "output_type": "stream",
     "text": [
      "WARNING:tensorflow:Value in checkpoint could not be found in the restored object: (root).optimizer's state 'momentum' for (root).model.layer_with_weights-14.gamma\n"
     ]
    },
    {
     "name": "stderr",
     "output_type": "stream",
     "text": [
      "WARNING:tensorflow:Value in checkpoint could not be found in the restored object: (root).optimizer's state 'momentum' for (root).model.layer_with_weights-14.gamma\n"
     ]
    },
    {
     "name": "stdout",
     "output_type": "stream",
     "text": [
      "WARNING:tensorflow:Value in checkpoint could not be found in the restored object: (root).optimizer's state 'momentum' for (root).model.layer_with_weights-14.beta\n"
     ]
    },
    {
     "name": "stderr",
     "output_type": "stream",
     "text": [
      "WARNING:tensorflow:Value in checkpoint could not be found in the restored object: (root).optimizer's state 'momentum' for (root).model.layer_with_weights-14.beta\n"
     ]
    },
    {
     "name": "stdout",
     "output_type": "stream",
     "text": [
      "WARNING:tensorflow:Value in checkpoint could not be found in the restored object: (root).optimizer's state 'momentum' for (root).model.layer_with_weights-15.kernel\n"
     ]
    },
    {
     "name": "stderr",
     "output_type": "stream",
     "text": [
      "WARNING:tensorflow:Value in checkpoint could not be found in the restored object: (root).optimizer's state 'momentum' for (root).model.layer_with_weights-15.kernel\n"
     ]
    },
    {
     "name": "stdout",
     "output_type": "stream",
     "text": [
      "WARNING:tensorflow:Value in checkpoint could not be found in the restored object: (root).optimizer's state 'momentum' for (root).model.layer_with_weights-16.gamma\n"
     ]
    },
    {
     "name": "stderr",
     "output_type": "stream",
     "text": [
      "WARNING:tensorflow:Value in checkpoint could not be found in the restored object: (root).optimizer's state 'momentum' for (root).model.layer_with_weights-16.gamma\n"
     ]
    },
    {
     "name": "stdout",
     "output_type": "stream",
     "text": [
      "WARNING:tensorflow:Value in checkpoint could not be found in the restored object: (root).optimizer's state 'momentum' for (root).model.layer_with_weights-16.beta\n"
     ]
    },
    {
     "name": "stderr",
     "output_type": "stream",
     "text": [
      "WARNING:tensorflow:Value in checkpoint could not be found in the restored object: (root).optimizer's state 'momentum' for (root).model.layer_with_weights-16.beta\n"
     ]
    },
    {
     "name": "stdout",
     "output_type": "stream",
     "text": [
      "WARNING:tensorflow:Value in checkpoint could not be found in the restored object: (root).optimizer's state 'momentum' for (root).model.layer_with_weights-17.kernel\n"
     ]
    },
    {
     "name": "stderr",
     "output_type": "stream",
     "text": [
      "WARNING:tensorflow:Value in checkpoint could not be found in the restored object: (root).optimizer's state 'momentum' for (root).model.layer_with_weights-17.kernel\n"
     ]
    },
    {
     "name": "stdout",
     "output_type": "stream",
     "text": [
      "WARNING:tensorflow:Value in checkpoint could not be found in the restored object: (root).optimizer's state 'momentum' for (root).model.layer_with_weights-18.gamma\n"
     ]
    },
    {
     "name": "stderr",
     "output_type": "stream",
     "text": [
      "WARNING:tensorflow:Value in checkpoint could not be found in the restored object: (root).optimizer's state 'momentum' for (root).model.layer_with_weights-18.gamma\n"
     ]
    },
    {
     "name": "stdout",
     "output_type": "stream",
     "text": [
      "WARNING:tensorflow:Value in checkpoint could not be found in the restored object: (root).optimizer's state 'momentum' for (root).model.layer_with_weights-18.beta\n"
     ]
    },
    {
     "name": "stderr",
     "output_type": "stream",
     "text": [
      "WARNING:tensorflow:Value in checkpoint could not be found in the restored object: (root).optimizer's state 'momentum' for (root).model.layer_with_weights-18.beta\n"
     ]
    },
    {
     "name": "stdout",
     "output_type": "stream",
     "text": [
      "WARNING:tensorflow:Value in checkpoint could not be found in the restored object: (root).optimizer's state 'momentum' for (root).model.layer_with_weights-19.kernel\n"
     ]
    },
    {
     "name": "stderr",
     "output_type": "stream",
     "text": [
      "WARNING:tensorflow:Value in checkpoint could not be found in the restored object: (root).optimizer's state 'momentum' for (root).model.layer_with_weights-19.kernel\n"
     ]
    },
    {
     "name": "stdout",
     "output_type": "stream",
     "text": [
      "WARNING:tensorflow:Value in checkpoint could not be found in the restored object: (root).optimizer's state 'momentum' for (root).model.layer_with_weights-20.gamma\n"
     ]
    },
    {
     "name": "stderr",
     "output_type": "stream",
     "text": [
      "WARNING:tensorflow:Value in checkpoint could not be found in the restored object: (root).optimizer's state 'momentum' for (root).model.layer_with_weights-20.gamma\n"
     ]
    },
    {
     "name": "stdout",
     "output_type": "stream",
     "text": [
      "WARNING:tensorflow:Value in checkpoint could not be found in the restored object: (root).optimizer's state 'momentum' for (root).model.layer_with_weights-20.beta\n"
     ]
    },
    {
     "name": "stderr",
     "output_type": "stream",
     "text": [
      "WARNING:tensorflow:Value in checkpoint could not be found in the restored object: (root).optimizer's state 'momentum' for (root).model.layer_with_weights-20.beta\n"
     ]
    },
    {
     "name": "stdout",
     "output_type": "stream",
     "text": [
      "WARNING:tensorflow:Value in checkpoint could not be found in the restored object: (root).optimizer's state 'momentum' for (root).model.layer_with_weights-21.kernel\n"
     ]
    },
    {
     "name": "stderr",
     "output_type": "stream",
     "text": [
      "WARNING:tensorflow:Value in checkpoint could not be found in the restored object: (root).optimizer's state 'momentum' for (root).model.layer_with_weights-21.kernel\n"
     ]
    },
    {
     "name": "stdout",
     "output_type": "stream",
     "text": [
      "WARNING:tensorflow:Value in checkpoint could not be found in the restored object: (root).optimizer's state 'momentum' for (root).model.layer_with_weights-22.kernel\n"
     ]
    },
    {
     "name": "stderr",
     "output_type": "stream",
     "text": [
      "WARNING:tensorflow:Value in checkpoint could not be found in the restored object: (root).optimizer's state 'momentum' for (root).model.layer_with_weights-22.kernel\n"
     ]
    },
    {
     "name": "stdout",
     "output_type": "stream",
     "text": [
      "WARNING:tensorflow:Value in checkpoint could not be found in the restored object: (root).optimizer's state 'momentum' for (root).model.layer_with_weights-23.gamma\n"
     ]
    },
    {
     "name": "stderr",
     "output_type": "stream",
     "text": [
      "WARNING:tensorflow:Value in checkpoint could not be found in the restored object: (root).optimizer's state 'momentum' for (root).model.layer_with_weights-23.gamma\n"
     ]
    },
    {
     "name": "stdout",
     "output_type": "stream",
     "text": [
      "WARNING:tensorflow:Value in checkpoint could not be found in the restored object: (root).optimizer's state 'momentum' for (root).model.layer_with_weights-23.beta\n"
     ]
    },
    {
     "name": "stderr",
     "output_type": "stream",
     "text": [
      "WARNING:tensorflow:Value in checkpoint could not be found in the restored object: (root).optimizer's state 'momentum' for (root).model.layer_with_weights-23.beta\n"
     ]
    },
    {
     "name": "stdout",
     "output_type": "stream",
     "text": [
      "WARNING:tensorflow:Value in checkpoint could not be found in the restored object: (root).optimizer's state 'momentum' for (root).model.layer_with_weights-24.kernel\n"
     ]
    },
    {
     "name": "stderr",
     "output_type": "stream",
     "text": [
      "WARNING:tensorflow:Value in checkpoint could not be found in the restored object: (root).optimizer's state 'momentum' for (root).model.layer_with_weights-24.kernel\n"
     ]
    },
    {
     "name": "stdout",
     "output_type": "stream",
     "text": [
      "WARNING:tensorflow:Value in checkpoint could not be found in the restored object: (root).optimizer's state 'momentum' for (root).model.layer_with_weights-25.gamma\n"
     ]
    },
    {
     "name": "stderr",
     "output_type": "stream",
     "text": [
      "WARNING:tensorflow:Value in checkpoint could not be found in the restored object: (root).optimizer's state 'momentum' for (root).model.layer_with_weights-25.gamma\n"
     ]
    },
    {
     "name": "stdout",
     "output_type": "stream",
     "text": [
      "WARNING:tensorflow:Value in checkpoint could not be found in the restored object: (root).optimizer's state 'momentum' for (root).model.layer_with_weights-25.beta\n"
     ]
    },
    {
     "name": "stderr",
     "output_type": "stream",
     "text": [
      "WARNING:tensorflow:Value in checkpoint could not be found in the restored object: (root).optimizer's state 'momentum' for (root).model.layer_with_weights-25.beta\n"
     ]
    },
    {
     "name": "stdout",
     "output_type": "stream",
     "text": [
      "WARNING:tensorflow:Value in checkpoint could not be found in the restored object: (root).optimizer's state 'momentum' for (root).model.layer_with_weights-26.kernel\n"
     ]
    },
    {
     "name": "stderr",
     "output_type": "stream",
     "text": [
      "WARNING:tensorflow:Value in checkpoint could not be found in the restored object: (root).optimizer's state 'momentum' for (root).model.layer_with_weights-26.kernel\n"
     ]
    },
    {
     "name": "stdout",
     "output_type": "stream",
     "text": [
      "WARNING:tensorflow:Value in checkpoint could not be found in the restored object: (root).optimizer's state 'momentum' for (root).model.layer_with_weights-27.gamma\n"
     ]
    },
    {
     "name": "stderr",
     "output_type": "stream",
     "text": [
      "WARNING:tensorflow:Value in checkpoint could not be found in the restored object: (root).optimizer's state 'momentum' for (root).model.layer_with_weights-27.gamma\n"
     ]
    },
    {
     "name": "stdout",
     "output_type": "stream",
     "text": [
      "WARNING:tensorflow:Value in checkpoint could not be found in the restored object: (root).optimizer's state 'momentum' for (root).model.layer_with_weights-27.beta\n"
     ]
    },
    {
     "name": "stderr",
     "output_type": "stream",
     "text": [
      "WARNING:tensorflow:Value in checkpoint could not be found in the restored object: (root).optimizer's state 'momentum' for (root).model.layer_with_weights-27.beta\n"
     ]
    },
    {
     "name": "stdout",
     "output_type": "stream",
     "text": [
      "WARNING:tensorflow:Value in checkpoint could not be found in the restored object: (root).optimizer's state 'momentum' for (root).model.layer_with_weights-28.kernel\n"
     ]
    },
    {
     "name": "stderr",
     "output_type": "stream",
     "text": [
      "WARNING:tensorflow:Value in checkpoint could not be found in the restored object: (root).optimizer's state 'momentum' for (root).model.layer_with_weights-28.kernel\n"
     ]
    },
    {
     "name": "stdout",
     "output_type": "stream",
     "text": [
      "WARNING:tensorflow:Value in checkpoint could not be found in the restored object: (root).optimizer's state 'momentum' for (root).model.layer_with_weights-29.gamma\n"
     ]
    },
    {
     "name": "stderr",
     "output_type": "stream",
     "text": [
      "WARNING:tensorflow:Value in checkpoint could not be found in the restored object: (root).optimizer's state 'momentum' for (root).model.layer_with_weights-29.gamma\n"
     ]
    },
    {
     "name": "stdout",
     "output_type": "stream",
     "text": [
      "WARNING:tensorflow:Value in checkpoint could not be found in the restored object: (root).optimizer's state 'momentum' for (root).model.layer_with_weights-29.beta\n"
     ]
    },
    {
     "name": "stderr",
     "output_type": "stream",
     "text": [
      "WARNING:tensorflow:Value in checkpoint could not be found in the restored object: (root).optimizer's state 'momentum' for (root).model.layer_with_weights-29.beta\n"
     ]
    },
    {
     "name": "stdout",
     "output_type": "stream",
     "text": [
      "WARNING:tensorflow:Value in checkpoint could not be found in the restored object: (root).optimizer's state 'momentum' for (root).model.layer_with_weights-30.kernel\n"
     ]
    },
    {
     "name": "stderr",
     "output_type": "stream",
     "text": [
      "WARNING:tensorflow:Value in checkpoint could not be found in the restored object: (root).optimizer's state 'momentum' for (root).model.layer_with_weights-30.kernel\n"
     ]
    },
    {
     "name": "stdout",
     "output_type": "stream",
     "text": [
      "WARNING:tensorflow:Value in checkpoint could not be found in the restored object: (root).optimizer's state 'momentum' for (root).model.layer_with_weights-31.gamma\n"
     ]
    },
    {
     "name": "stderr",
     "output_type": "stream",
     "text": [
      "WARNING:tensorflow:Value in checkpoint could not be found in the restored object: (root).optimizer's state 'momentum' for (root).model.layer_with_weights-31.gamma\n"
     ]
    },
    {
     "name": "stdout",
     "output_type": "stream",
     "text": [
      "WARNING:tensorflow:Value in checkpoint could not be found in the restored object: (root).optimizer's state 'momentum' for (root).model.layer_with_weights-31.beta\n"
     ]
    },
    {
     "name": "stderr",
     "output_type": "stream",
     "text": [
      "WARNING:tensorflow:Value in checkpoint could not be found in the restored object: (root).optimizer's state 'momentum' for (root).model.layer_with_weights-31.beta\n"
     ]
    },
    {
     "name": "stdout",
     "output_type": "stream",
     "text": [
      "WARNING:tensorflow:Value in checkpoint could not be found in the restored object: (root).optimizer's state 'momentum' for (root).model.layer_with_weights-32.kernel\n"
     ]
    },
    {
     "name": "stderr",
     "output_type": "stream",
     "text": [
      "WARNING:tensorflow:Value in checkpoint could not be found in the restored object: (root).optimizer's state 'momentum' for (root).model.layer_with_weights-32.kernel\n"
     ]
    },
    {
     "name": "stdout",
     "output_type": "stream",
     "text": [
      "WARNING:tensorflow:Value in checkpoint could not be found in the restored object: (root).optimizer's state 'momentum' for (root).model.layer_with_weights-33.gamma\n"
     ]
    },
    {
     "name": "stderr",
     "output_type": "stream",
     "text": [
      "WARNING:tensorflow:Value in checkpoint could not be found in the restored object: (root).optimizer's state 'momentum' for (root).model.layer_with_weights-33.gamma\n"
     ]
    },
    {
     "name": "stdout",
     "output_type": "stream",
     "text": [
      "WARNING:tensorflow:Value in checkpoint could not be found in the restored object: (root).optimizer's state 'momentum' for (root).model.layer_with_weights-33.beta\n"
     ]
    },
    {
     "name": "stderr",
     "output_type": "stream",
     "text": [
      "WARNING:tensorflow:Value in checkpoint could not be found in the restored object: (root).optimizer's state 'momentum' for (root).model.layer_with_weights-33.beta\n"
     ]
    },
    {
     "name": "stdout",
     "output_type": "stream",
     "text": [
      "WARNING:tensorflow:Value in checkpoint could not be found in the restored object: (root).optimizer's state 'momentum' for (root).model.layer_with_weights-34.kernel\n"
     ]
    },
    {
     "name": "stderr",
     "output_type": "stream",
     "text": [
      "WARNING:tensorflow:Value in checkpoint could not be found in the restored object: (root).optimizer's state 'momentum' for (root).model.layer_with_weights-34.kernel\n"
     ]
    },
    {
     "name": "stdout",
     "output_type": "stream",
     "text": [
      "WARNING:tensorflow:Value in checkpoint could not be found in the restored object: (root).optimizer's state 'momentum' for (root).model.layer_with_weights-35.gamma\n"
     ]
    },
    {
     "name": "stderr",
     "output_type": "stream",
     "text": [
      "WARNING:tensorflow:Value in checkpoint could not be found in the restored object: (root).optimizer's state 'momentum' for (root).model.layer_with_weights-35.gamma\n"
     ]
    },
    {
     "name": "stdout",
     "output_type": "stream",
     "text": [
      "WARNING:tensorflow:Value in checkpoint could not be found in the restored object: (root).optimizer's state 'momentum' for (root).model.layer_with_weights-35.beta\n"
     ]
    },
    {
     "name": "stderr",
     "output_type": "stream",
     "text": [
      "WARNING:tensorflow:Value in checkpoint could not be found in the restored object: (root).optimizer's state 'momentum' for (root).model.layer_with_weights-35.beta\n"
     ]
    },
    {
     "name": "stdout",
     "output_type": "stream",
     "text": [
      "WARNING:tensorflow:Value in checkpoint could not be found in the restored object: (root).optimizer's state 'momentum' for (root).model.layer_with_weights-36.kernel\n"
     ]
    },
    {
     "name": "stderr",
     "output_type": "stream",
     "text": [
      "WARNING:tensorflow:Value in checkpoint could not be found in the restored object: (root).optimizer's state 'momentum' for (root).model.layer_with_weights-36.kernel\n"
     ]
    },
    {
     "name": "stdout",
     "output_type": "stream",
     "text": [
      "WARNING:tensorflow:Value in checkpoint could not be found in the restored object: (root).optimizer's state 'momentum' for (root).model.layer_with_weights-37.gamma\n"
     ]
    },
    {
     "name": "stderr",
     "output_type": "stream",
     "text": [
      "WARNING:tensorflow:Value in checkpoint could not be found in the restored object: (root).optimizer's state 'momentum' for (root).model.layer_with_weights-37.gamma\n"
     ]
    },
    {
     "name": "stdout",
     "output_type": "stream",
     "text": [
      "WARNING:tensorflow:Value in checkpoint could not be found in the restored object: (root).optimizer's state 'momentum' for (root).model.layer_with_weights-37.beta\n"
     ]
    },
    {
     "name": "stderr",
     "output_type": "stream",
     "text": [
      "WARNING:tensorflow:Value in checkpoint could not be found in the restored object: (root).optimizer's state 'momentum' for (root).model.layer_with_weights-37.beta\n"
     ]
    },
    {
     "name": "stdout",
     "output_type": "stream",
     "text": [
      "WARNING:tensorflow:Value in checkpoint could not be found in the restored object: (root).optimizer's state 'momentum' for (root).model.layer_with_weights-38.kernel\n"
     ]
    },
    {
     "name": "stderr",
     "output_type": "stream",
     "text": [
      "WARNING:tensorflow:Value in checkpoint could not be found in the restored object: (root).optimizer's state 'momentum' for (root).model.layer_with_weights-38.kernel\n"
     ]
    },
    {
     "name": "stdout",
     "output_type": "stream",
     "text": [
      "WARNING:tensorflow:Value in checkpoint could not be found in the restored object: (root).optimizer's state 'momentum' for (root).model.layer_with_weights-39.kernel\n"
     ]
    },
    {
     "name": "stderr",
     "output_type": "stream",
     "text": [
      "WARNING:tensorflow:Value in checkpoint could not be found in the restored object: (root).optimizer's state 'momentum' for (root).model.layer_with_weights-39.kernel\n"
     ]
    },
    {
     "name": "stdout",
     "output_type": "stream",
     "text": [
      "WARNING:tensorflow:Value in checkpoint could not be found in the restored object: (root).optimizer's state 'momentum' for (root).model.layer_with_weights-40.gamma\n"
     ]
    },
    {
     "name": "stderr",
     "output_type": "stream",
     "text": [
      "WARNING:tensorflow:Value in checkpoint could not be found in the restored object: (root).optimizer's state 'momentum' for (root).model.layer_with_weights-40.gamma\n"
     ]
    },
    {
     "name": "stdout",
     "output_type": "stream",
     "text": [
      "WARNING:tensorflow:Value in checkpoint could not be found in the restored object: (root).optimizer's state 'momentum' for (root).model.layer_with_weights-40.beta\n"
     ]
    },
    {
     "name": "stderr",
     "output_type": "stream",
     "text": [
      "WARNING:tensorflow:Value in checkpoint could not be found in the restored object: (root).optimizer's state 'momentum' for (root).model.layer_with_weights-40.beta\n"
     ]
    },
    {
     "name": "stdout",
     "output_type": "stream",
     "text": [
      "WARNING:tensorflow:Value in checkpoint could not be found in the restored object: (root).optimizer's state 'momentum' for (root).model.layer_with_weights-41.kernel\n"
     ]
    },
    {
     "name": "stderr",
     "output_type": "stream",
     "text": [
      "WARNING:tensorflow:Value in checkpoint could not be found in the restored object: (root).optimizer's state 'momentum' for (root).model.layer_with_weights-41.kernel\n"
     ]
    },
    {
     "name": "stdout",
     "output_type": "stream",
     "text": [
      "WARNING:tensorflow:Value in checkpoint could not be found in the restored object: (root).optimizer's state 'momentum' for (root).model.layer_with_weights-42.gamma\n"
     ]
    },
    {
     "name": "stderr",
     "output_type": "stream",
     "text": [
      "WARNING:tensorflow:Value in checkpoint could not be found in the restored object: (root).optimizer's state 'momentum' for (root).model.layer_with_weights-42.gamma\n"
     ]
    },
    {
     "name": "stdout",
     "output_type": "stream",
     "text": [
      "WARNING:tensorflow:Value in checkpoint could not be found in the restored object: (root).optimizer's state 'momentum' for (root).model.layer_with_weights-42.beta\n"
     ]
    },
    {
     "name": "stderr",
     "output_type": "stream",
     "text": [
      "WARNING:tensorflow:Value in checkpoint could not be found in the restored object: (root).optimizer's state 'momentum' for (root).model.layer_with_weights-42.beta\n"
     ]
    },
    {
     "name": "stdout",
     "output_type": "stream",
     "text": [
      "WARNING:tensorflow:Value in checkpoint could not be found in the restored object: (root).optimizer's state 'momentum' for (root).model.layer_with_weights-43.kernel\n"
     ]
    },
    {
     "name": "stderr",
     "output_type": "stream",
     "text": [
      "WARNING:tensorflow:Value in checkpoint could not be found in the restored object: (root).optimizer's state 'momentum' for (root).model.layer_with_weights-43.kernel\n"
     ]
    },
    {
     "name": "stdout",
     "output_type": "stream",
     "text": [
      "WARNING:tensorflow:Value in checkpoint could not be found in the restored object: (root).optimizer's state 'momentum' for (root).model.layer_with_weights-44.gamma\n"
     ]
    },
    {
     "name": "stderr",
     "output_type": "stream",
     "text": [
      "WARNING:tensorflow:Value in checkpoint could not be found in the restored object: (root).optimizer's state 'momentum' for (root).model.layer_with_weights-44.gamma\n"
     ]
    },
    {
     "name": "stdout",
     "output_type": "stream",
     "text": [
      "WARNING:tensorflow:Value in checkpoint could not be found in the restored object: (root).optimizer's state 'momentum' for (root).model.layer_with_weights-44.beta\n"
     ]
    },
    {
     "name": "stderr",
     "output_type": "stream",
     "text": [
      "WARNING:tensorflow:Value in checkpoint could not be found in the restored object: (root).optimizer's state 'momentum' for (root).model.layer_with_weights-44.beta\n"
     ]
    },
    {
     "name": "stdout",
     "output_type": "stream",
     "text": [
      "WARNING:tensorflow:Value in checkpoint could not be found in the restored object: (root).optimizer's state 'momentum' for (root).model.layer_with_weights-45.kernel\n"
     ]
    },
    {
     "name": "stderr",
     "output_type": "stream",
     "text": [
      "WARNING:tensorflow:Value in checkpoint could not be found in the restored object: (root).optimizer's state 'momentum' for (root).model.layer_with_weights-45.kernel\n"
     ]
    },
    {
     "name": "stdout",
     "output_type": "stream",
     "text": [
      "WARNING:tensorflow:Value in checkpoint could not be found in the restored object: (root).optimizer's state 'momentum' for (root).model.layer_with_weights-46.gamma\n"
     ]
    },
    {
     "name": "stderr",
     "output_type": "stream",
     "text": [
      "WARNING:tensorflow:Value in checkpoint could not be found in the restored object: (root).optimizer's state 'momentum' for (root).model.layer_with_weights-46.gamma\n"
     ]
    },
    {
     "name": "stdout",
     "output_type": "stream",
     "text": [
      "WARNING:tensorflow:Value in checkpoint could not be found in the restored object: (root).optimizer's state 'momentum' for (root).model.layer_with_weights-46.beta\n"
     ]
    },
    {
     "name": "stderr",
     "output_type": "stream",
     "text": [
      "WARNING:tensorflow:Value in checkpoint could not be found in the restored object: (root).optimizer's state 'momentum' for (root).model.layer_with_weights-46.beta\n"
     ]
    },
    {
     "name": "stdout",
     "output_type": "stream",
     "text": [
      "WARNING:tensorflow:Value in checkpoint could not be found in the restored object: (root).optimizer's state 'momentum' for (root).model.layer_with_weights-47.kernel\n"
     ]
    },
    {
     "name": "stderr",
     "output_type": "stream",
     "text": [
      "WARNING:tensorflow:Value in checkpoint could not be found in the restored object: (root).optimizer's state 'momentum' for (root).model.layer_with_weights-47.kernel\n"
     ]
    },
    {
     "name": "stdout",
     "output_type": "stream",
     "text": [
      "WARNING:tensorflow:Value in checkpoint could not be found in the restored object: (root).optimizer's state 'momentum' for (root).model.layer_with_weights-48.gamma\n"
     ]
    },
    {
     "name": "stderr",
     "output_type": "stream",
     "text": [
      "WARNING:tensorflow:Value in checkpoint could not be found in the restored object: (root).optimizer's state 'momentum' for (root).model.layer_with_weights-48.gamma\n"
     ]
    },
    {
     "name": "stdout",
     "output_type": "stream",
     "text": [
      "WARNING:tensorflow:Value in checkpoint could not be found in the restored object: (root).optimizer's state 'momentum' for (root).model.layer_with_weights-48.beta\n"
     ]
    },
    {
     "name": "stderr",
     "output_type": "stream",
     "text": [
      "WARNING:tensorflow:Value in checkpoint could not be found in the restored object: (root).optimizer's state 'momentum' for (root).model.layer_with_weights-48.beta\n"
     ]
    },
    {
     "name": "stdout",
     "output_type": "stream",
     "text": [
      "WARNING:tensorflow:Value in checkpoint could not be found in the restored object: (root).optimizer's state 'momentum' for (root).model.layer_with_weights-49.kernel\n"
     ]
    },
    {
     "name": "stderr",
     "output_type": "stream",
     "text": [
      "WARNING:tensorflow:Value in checkpoint could not be found in the restored object: (root).optimizer's state 'momentum' for (root).model.layer_with_weights-49.kernel\n"
     ]
    },
    {
     "name": "stdout",
     "output_type": "stream",
     "text": [
      "WARNING:tensorflow:Value in checkpoint could not be found in the restored object: (root).optimizer's state 'momentum' for (root).model.layer_with_weights-50.gamma\n"
     ]
    },
    {
     "name": "stderr",
     "output_type": "stream",
     "text": [
      "WARNING:tensorflow:Value in checkpoint could not be found in the restored object: (root).optimizer's state 'momentum' for (root).model.layer_with_weights-50.gamma\n"
     ]
    },
    {
     "name": "stdout",
     "output_type": "stream",
     "text": [
      "WARNING:tensorflow:Value in checkpoint could not be found in the restored object: (root).optimizer's state 'momentum' for (root).model.layer_with_weights-50.beta\n"
     ]
    },
    {
     "name": "stderr",
     "output_type": "stream",
     "text": [
      "WARNING:tensorflow:Value in checkpoint could not be found in the restored object: (root).optimizer's state 'momentum' for (root).model.layer_with_weights-50.beta\n"
     ]
    },
    {
     "name": "stdout",
     "output_type": "stream",
     "text": [
      "WARNING:tensorflow:Value in checkpoint could not be found in the restored object: (root).optimizer's state 'momentum' for (root).model.layer_with_weights-51.kernel\n"
     ]
    },
    {
     "name": "stderr",
     "output_type": "stream",
     "text": [
      "WARNING:tensorflow:Value in checkpoint could not be found in the restored object: (root).optimizer's state 'momentum' for (root).model.layer_with_weights-51.kernel\n"
     ]
    },
    {
     "name": "stdout",
     "output_type": "stream",
     "text": [
      "WARNING:tensorflow:Value in checkpoint could not be found in the restored object: (root).optimizer's state 'momentum' for (root).model.layer_with_weights-52.gamma\n"
     ]
    },
    {
     "name": "stderr",
     "output_type": "stream",
     "text": [
      "WARNING:tensorflow:Value in checkpoint could not be found in the restored object: (root).optimizer's state 'momentum' for (root).model.layer_with_weights-52.gamma\n"
     ]
    },
    {
     "name": "stdout",
     "output_type": "stream",
     "text": [
      "WARNING:tensorflow:Value in checkpoint could not be found in the restored object: (root).optimizer's state 'momentum' for (root).model.layer_with_weights-52.beta\n"
     ]
    },
    {
     "name": "stderr",
     "output_type": "stream",
     "text": [
      "WARNING:tensorflow:Value in checkpoint could not be found in the restored object: (root).optimizer's state 'momentum' for (root).model.layer_with_weights-52.beta\n"
     ]
    },
    {
     "name": "stdout",
     "output_type": "stream",
     "text": [
      "WARNING:tensorflow:Value in checkpoint could not be found in the restored object: (root).optimizer's state 'momentum' for (root).model.layer_with_weights-53.kernel\n"
     ]
    },
    {
     "name": "stderr",
     "output_type": "stream",
     "text": [
      "WARNING:tensorflow:Value in checkpoint could not be found in the restored object: (root).optimizer's state 'momentum' for (root).model.layer_with_weights-53.kernel\n"
     ]
    },
    {
     "name": "stdout",
     "output_type": "stream",
     "text": [
      "WARNING:tensorflow:Value in checkpoint could not be found in the restored object: (root).optimizer's state 'momentum' for (root).model.layer_with_weights-53.bias\n"
     ]
    },
    {
     "name": "stderr",
     "output_type": "stream",
     "text": [
      "WARNING:tensorflow:Value in checkpoint could not be found in the restored object: (root).optimizer's state 'momentum' for (root).model.layer_with_weights-53.bias\n",
      "100%|██████████| 313/313 [01:39<00:00,  3.65it/s]\n"
     ]
    }
   ],
   "source": [
    "locs_ls, labels_ls = evaluate_ls(\n",
    "    dataset_name='cifar100', \n",
    "    checkpoint_dir='/home/baumana1/work/data/sgn_results_wrong/cifar100ls/no_noise/checkpoint-7',\n",
    "    num_classes=100,\n",
    ")"
   ]
  },
  {
   "cell_type": "code",
   "execution_count": 28,
   "metadata": {},
   "outputs": [
    {
     "name": "stderr",
     "output_type": "stream",
     "text": [
      "Processing chunks:   0%|          | 0/40 [00:00<?, ?it/s]"
     ]
    },
    {
     "name": "stderr",
     "output_type": "stream",
     "text": [
      "Processing chunks: 100%|██████████| 40/40 [01:11<00:00,  1.32s/it]\n"
     ]
    }
   ],
   "source": [
    "probs_ls = softmax(locs_ls, axis=-1)\n",
    "probs_sgn = ilr_forward(locs_sgn).numpy()\n",
    "probs_sgn_mc = sample_probas_chunked(locs_sgn, scales_sgn, num_classes=100, num_samples=1000, chunk_size=256)"
   ]
  },
  {
   "cell_type": "code",
   "execution_count": 30,
   "metadata": {},
   "outputs": [
    {
     "data": {
      "text/plain": [
       "({'ece': 0.15133622288703918, 'nlpd': 1.5925912, 'acc': 0.6468},\n",
       " {'ece': 0.05664706975221634, 'nlpd': 1.3483539, 'acc': 0.7382},\n",
       " {'ece': 0.06957709044218063, 'nlpd': 1.3242255, 'acc': 0.7396})"
      ]
     },
     "execution_count": 30,
     "metadata": {},
     "output_type": "execute_result"
    }
   ],
   "source": [
    "metrics_ls = compute_metrics(probs_ls, labels_ls)\n",
    "metrics_sgn = compute_metrics(probs_sgn, labels_sgn)\n",
    "metrics_sgn_mc = compute_metrics(probs_sgn_mc, labels_sgn)\n",
    "\n",
    "metrics_ls, metrics_sgn, metrics_sgn_mc"
   ]
  },
  {
   "cell_type": "code",
   "execution_count": 31,
   "metadata": {},
   "outputs": [
    {
     "data": {
      "image/png": "[encoded data removed]",
      "text/plain": [
       "<Figure size 600x600 with 1 Axes>"
      ]
     },
     "metadata": {},
     "output_type": "display_data"
    }
   ],
   "source": [
    "df_ls = make_calibration_df(probs_ls, labels_ls)\n",
    "plot_calibration(df_ls, error=metrics_ls['ece'])"
   ]
  },
  {
   "cell_type": "code",
   "execution_count": 32,
   "metadata": {},
   "outputs": [
    {
     "data": {
      "image/png": "[encoded data removed]",
      "text/plain": [
       "<Figure size 600x600 with 1 Axes>"
      ]
     },
     "metadata": {},
     "output_type": "display_data"
    }
   ],
   "source": [
    "df_sgn = make_calibration_df(probs_sgn, labels_sgn)\n",
    "plot_calibration(df_sgn, error=metrics_sgn['ece'])"
   ]
  },
  {
   "cell_type": "code",
   "execution_count": 33,
   "metadata": {},
   "outputs": [
    {
     "data": {
      "image/png": "[encoded data removed]",
      "text/plain": [
       "<Figure size 600x600 with 1 Axes>"
      ]
     },
     "metadata": {},
     "output_type": "display_data"
    }
   ],
   "source": [
    "df_sgn_mc = make_calibration_df(probs_sgn_mc, labels_sgn)\n",
    "plot_calibration(df_sgn_mc, error=metrics_sgn_mc['ece'])"
   ]
  },
  {
   "cell_type": "code",
   "execution_count": null,
   "metadata": {},
   "outputs": [],
   "source": []
  },
  {
   "cell_type": "code",
   "execution_count": null,
   "metadata": {},
   "outputs": [],
   "source": []
  },
  {
   "cell_type": "code",
   "execution_count": null,
   "metadata": {},
   "outputs": [
    {
     "name": "stdout",
     "output_type": "stream",
     "text": [
      "gaussian_result: [[-2.8670713e-01 -5.8261782e-01]\n",
      " [ 1.1100184e-08 -1.6978569e+00]]\n",
      "backtr_result: [[0.2 0.3 0.5]\n",
      " [0.1 0.1 0.8]]\n"
     ]
    }
   ],
   "source": [
    "import tensorflow as tf\n",
    "\n",
    "# CLR inverse function\n",
    "def clr_inv(p):\n",
    "    z = tf.math.log(p)\n",
    "    return z - tf.reduce_mean(z, axis=1, keepdims=True)\n",
    "\n",
    "# CLR forward function\n",
    "def clr_forward(z, axis=1):\n",
    "    return tf.nn.softmax(z, axis=axis)\n",
    "\n",
    "def helmert_tf(n):\n",
    "  tensor = tf.ones((n, n))\n",
    "  H = tf.linalg.set_diag(tf.linalg.band_part(tensor, -1, 0), 1-tf.range(1, n+1, dtype=tf.float32))\n",
    "  d = tf.range(0, n, dtype=tf.float32) * tf.range(1, n+1, dtype=tf.float32)\n",
    "  H_full = H / tf.math.sqrt(d)[:, tf.newaxis]\n",
    "  return H_full[1:]\n",
    "\n",
    "\n",
    "def ilr_forward(z, axis=-1):\n",
    "    H = helmert_tf(tf.shape(z)[-1] + 1)\n",
    "    return clr_forward(z @ H, axis=axis)\n",
    "\n",
    "\n",
    "def ilr_inv(p):\n",
    "    z = clr_inv(p)\n",
    "    H = helmert_tf(tf.shape(p)[-1])\n",
    "    return z @ tf.linalg.matrix_transpose(H)\n",
    "\n",
    "# Test the CLR functions\n",
    "test_input = tf.constant([[0.2, 0.3, 0.5], [0.1, 0.1, 0.8]], dtype=tf.float32)\n",
    "\n",
    "# Apply forward and inverse transformations\n",
    "gaussian_result = ilr_inv(test_input)\n",
    "backtr_result = ilr_forward(gaussian_result)\n",
    "\n",
    "print(\"gaussian_result:\", gaussian_result.numpy())\n",
    "print(\"backtr_result:\", backtr_result.numpy())"
   ]
  },
  {
   "cell_type": "code",
   "execution_count": null,
   "metadata": {},
   "outputs": [],
   "source": []
  },
  {
   "cell_type": "code",
   "execution_count": null,
   "metadata": {},
   "outputs": [],
   "source": []
  }
 ],
 "metadata": {
  "kernelspec": {
   "display_name": "sgn_env",
   "language": "python",
   "name": "python3"
  },
  "language_info": {
   "codemirror_mode": {
    "name": "ipython",
    "version": 3
   },
   "file_extension": ".py",
   "mimetype": "text/x-python",
   "name": "python",
   "nbconvert_exporter": "python",
   "pygments_lexer": "ipython3",
   "version": "3.9.15"
  }
 },
 "nbformat": 4,
 "nbformat_minor": 2
}
